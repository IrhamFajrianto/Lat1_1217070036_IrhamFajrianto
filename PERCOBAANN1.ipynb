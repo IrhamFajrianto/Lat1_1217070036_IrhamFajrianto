{
 "cells": [
  {
   "cell_type": "code",
   "execution_count": 13,
   "id": "8a6698ed-15ae-4d75-8504-142533e3df3d",
   "metadata": {},
   "outputs": [
    {
     "name": "stdout",
     "output_type": "stream",
     "text": [
      "Requirement already satisfied: nltk in c:\\users\\irham\\anaconda3\\lib\\site-packages (3.8.1)\n",
      "Requirement already satisfied: click in c:\\users\\irham\\anaconda3\\lib\\site-packages (from nltk) (8.1.7)\n",
      "Requirement already satisfied: joblib in c:\\users\\irham\\anaconda3\\lib\\site-packages (from nltk) (1.4.2)\n",
      "Requirement already satisfied: regex>=2021.8.3 in c:\\users\\irham\\anaconda3\\lib\\site-packages (from nltk) (2023.10.3)\n",
      "Requirement already satisfied: tqdm in c:\\users\\irham\\anaconda3\\lib\\site-packages (from nltk) (4.66.4)\n",
      "Requirement already satisfied: colorama in c:\\users\\irham\\anaconda3\\lib\\site-packages (from click->nltk) (0.4.6)\n",
      "Note: you may need to restart the kernel to use updated packages.\n"
     ]
    }
   ],
   "source": [
    "pip install nltk"
   ]
  },
  {
   "cell_type": "code",
   "execution_count": 1,
   "id": "33a36f58-2118-49c8-a366-24cc47345aac",
   "metadata": {},
   "outputs": [],
   "source": [
    "import nltk"
   ]
  },
  {
   "cell_type": "code",
   "execution_count": 3,
   "id": "ce3358a7-2d8a-4eee-b26c-76e0956af861",
   "metadata": {},
   "outputs": [
    {
     "name": "stderr",
     "output_type": "stream",
     "text": [
      "[nltk_data] Downloading package punkt to\n",
      "[nltk_data]     C:\\Users\\irham\\AppData\\Roaming\\nltk_data...\n",
      "[nltk_data]   Package punkt is already up-to-date!\n"
     ]
    },
    {
     "data": {
      "text/plain": [
       "True"
      ]
     },
     "execution_count": 3,
     "metadata": {},
     "output_type": "execute_result"
    }
   ],
   "source": [
    "nltk.download('punkt')"
   ]
  },
  {
   "cell_type": "code",
   "execution_count": 5,
   "id": "ce472f04-717c-42c8-8bc9-2cfaa427c577",
   "metadata": {},
   "outputs": [],
   "source": [
    "from nltk.util import ngrams"
   ]
  },
  {
   "cell_type": "code",
   "execution_count": 19,
   "id": "3d12fd71-40bb-4249-a56f-de715012a5d3",
   "metadata": {},
   "outputs": [],
   "source": [
    "import pandas as pd \n",
    "import numpy as np \n",
    "from nltk.corpus import stopwords\n",
    "from nltk import ngrams \n",
    "from nltk import word_tokenize \n",
    "import string\n",
    "from sklearn.feature_extraction.text import TfidfVectorizer \n",
    "from sklearn import svm \n",
    "from sklearn.model_selection import train_test_split \n",
    "from sklearn.naive_bayes import MultinomialNB \n",
    "from nltk.stem import PorterStemmer \n",
    "from sklearn import metrics"
   ]
  },
  {
   "cell_type": "code",
   "execution_count": 33,
   "id": "e4771515-c115-441a-af41-f5ff11e88e3c",
   "metadata": {},
   "outputs": [
    {
     "data": {
      "text/html": [
       "<div>\n",
       "<style scoped>\n",
       "    .dataframe tbody tr th:only-of-type {\n",
       "        vertical-align: middle;\n",
       "    }\n",
       "\n",
       "    .dataframe tbody tr th {\n",
       "        vertical-align: top;\n",
       "    }\n",
       "\n",
       "    .dataframe thead th {\n",
       "        text-align: right;\n",
       "    }\n",
       "</style>\n",
       "<table border=\"1\" class=\"dataframe\">\n",
       "  <thead>\n",
       "    <tr style=\"text-align: right;\">\n",
       "      <th></th>\n",
       "      <th>0</th>\n",
       "      <th>1</th>\n",
       "      <th>2</th>\n",
       "    </tr>\n",
       "  </thead>\n",
       "  <tbody>\n",
       "    <tr>\n",
       "      <th>0</th>\n",
       "      <td>joy</td>\n",
       "      <td>On days when I feel close to my partner and ot...</td>\n",
       "      <td>NaN</td>\n",
       "    </tr>\n",
       "    <tr>\n",
       "      <th>1</th>\n",
       "      <td>fear</td>\n",
       "      <td>Every time I imagine that someone I love or I ...</td>\n",
       "      <td>NaN</td>\n",
       "    </tr>\n",
       "    <tr>\n",
       "      <th>2</th>\n",
       "      <td>anger</td>\n",
       "      <td>When I had been obviously unjustly treated and...</td>\n",
       "      <td>NaN</td>\n",
       "    </tr>\n",
       "    <tr>\n",
       "      <th>3</th>\n",
       "      <td>sadness</td>\n",
       "      <td>When I think about the short time that we live...</td>\n",
       "      <td>NaN</td>\n",
       "    </tr>\n",
       "    <tr>\n",
       "      <th>4</th>\n",
       "      <td>disgust</td>\n",
       "      <td>At a gathering I found myself involuntarily si...</td>\n",
       "      <td>NaN</td>\n",
       "    </tr>\n",
       "  </tbody>\n",
       "</table>\n",
       "</div>"
      ],
      "text/plain": [
       "         0                                                  1    2\n",
       "0      joy  On days when I feel close to my partner and ot...  NaN\n",
       "1     fear  Every time I imagine that someone I love or I ...  NaN\n",
       "2    anger  When I had been obviously unjustly treated and...  NaN\n",
       "3  sadness  When I think about the short time that we live...  NaN\n",
       "4  disgust  At a gathering I found myself involuntarily si...  NaN"
      ]
     },
     "execution_count": 33,
     "metadata": {},
     "output_type": "execute_result"
    }
   ],
   "source": [
    "df = pd.read_csv(\"ISEAR.csv\", header=None)\n",
    "df.head()"
   ]
  },
  {
   "cell_type": "code",
   "execution_count": 39,
   "id": "8ee9ae0f-cb87-40a6-91c8-4dd17034dd98",
   "metadata": {},
   "outputs": [
    {
     "data": {
      "text/html": [
       "<div>\n",
       "<style scoped>\n",
       "    .dataframe tbody tr th:only-of-type {\n",
       "        vertical-align: middle;\n",
       "    }\n",
       "\n",
       "    .dataframe tbody tr th {\n",
       "        vertical-align: top;\n",
       "    }\n",
       "\n",
       "    .dataframe thead th {\n",
       "        text-align: right;\n",
       "    }\n",
       "</style>\n",
       "<table border=\"1\" class=\"dataframe\">\n",
       "  <thead>\n",
       "    <tr style=\"text-align: right;\">\n",
       "      <th></th>\n",
       "      <th>Emotion</th>\n",
       "      <th>Text</th>\n",
       "    </tr>\n",
       "  </thead>\n",
       "  <tbody>\n",
       "    <tr>\n",
       "      <th>0</th>\n",
       "      <td>joy</td>\n",
       "      <td>On days when I feel close to my partner and ot...</td>\n",
       "    </tr>\n",
       "    <tr>\n",
       "      <th>1</th>\n",
       "      <td>fear</td>\n",
       "      <td>Every time I imagine that someone I love or I ...</td>\n",
       "    </tr>\n",
       "    <tr>\n",
       "      <th>2</th>\n",
       "      <td>anger</td>\n",
       "      <td>When I had been obviously unjustly treated and...</td>\n",
       "    </tr>\n",
       "    <tr>\n",
       "      <th>3</th>\n",
       "      <td>sadness</td>\n",
       "      <td>When I think about the short time that we live...</td>\n",
       "    </tr>\n",
       "    <tr>\n",
       "      <th>4</th>\n",
       "      <td>disgust</td>\n",
       "      <td>At a gathering I found myself involuntarily si...</td>\n",
       "    </tr>\n",
       "  </tbody>\n",
       "</table>\n",
       "</div>"
      ],
      "text/plain": [
       "   Emotion                                               Text\n",
       "0      joy  On days when I feel close to my partner and ot...\n",
       "1     fear  Every time I imagine that someone I love or I ...\n",
       "2    anger  When I had been obviously unjustly treated and...\n",
       "3  sadness  When I think about the short time that we live...\n",
       "4  disgust  At a gathering I found myself involuntarily si..."
      ]
     },
     "execution_count": 39,
     "metadata": {},
     "output_type": "execute_result"
    }
   ],
   "source": [
    "col = [0,1] \n",
    "new_df = df[col] \n",
    "new_df = new_df[pd.notnull(df[1])] \n",
    "new_df.columns = [\"Emotion\", \"Text\"] \n",
    "new_df.head()"
   ]
  },
  {
   "cell_type": "code",
   "execution_count": 47,
   "id": "9a745c8b-b33e-4006-a9ee-00bcd4149a51",
   "metadata": {},
   "outputs": [
    {
     "data": {
      "image/png": "[encoded data removed]",
      "text/plain": [
       "<Figure size 800x600 with 1 Axes>"
      ]
     },
     "metadata": {},
     "output_type": "display_data"
    }
   ],
   "source": [
    "import matplotlib.pyplot as plt \n",
    "fig = plt.figure(figsize=(8,6)) \n",
    "new_df.groupby('Emotion').Text.count().plot.bar(ylim=0) \n",
    "plt.show()"
   ]
  },
  {
   "cell_type": "code",
   "execution_count": 81,
   "id": "3a74b20b-c8e5-4226-965a-fb57870cfc2e",
   "metadata": {},
   "outputs": [
    {
     "ename": "KeyError",
     "evalue": "'text'",
     "output_type": "error",
     "traceback": [
      "\u001b[1;31m---------------------------------------------------------------------------\u001b[0m",
      "\u001b[1;31mKeyError\u001b[0m                                  Traceback (most recent call last)",
      "File \u001b[1;32m~\\anaconda3\\Lib\\site-packages\\pandas\\core\\indexes\\base.py:3805\u001b[0m, in \u001b[0;36mIndex.get_loc\u001b[1;34m(self, key)\u001b[0m\n\u001b[0;32m   3804\u001b[0m \u001b[38;5;28;01mtry\u001b[39;00m:\n\u001b[1;32m-> 3805\u001b[0m     \u001b[38;5;28;01mreturn\u001b[39;00m \u001b[38;5;28mself\u001b[39m\u001b[38;5;241m.\u001b[39m_engine\u001b[38;5;241m.\u001b[39mget_loc(casted_key)\n\u001b[0;32m   3806\u001b[0m \u001b[38;5;28;01mexcept\u001b[39;00m \u001b[38;5;167;01mKeyError\u001b[39;00m \u001b[38;5;28;01mas\u001b[39;00m err:\n",
      "File \u001b[1;32mindex.pyx:167\u001b[0m, in \u001b[0;36mpandas._libs.index.IndexEngine.get_loc\u001b[1;34m()\u001b[0m\n",
      "File \u001b[1;32mindex.pyx:196\u001b[0m, in \u001b[0;36mpandas._libs.index.IndexEngine.get_loc\u001b[1;34m()\u001b[0m\n",
      "File \u001b[1;32mpandas\\\\_libs\\\\hashtable_class_helper.pxi:7081\u001b[0m, in \u001b[0;36mpandas._libs.hashtable.PyObjectHashTable.get_item\u001b[1;34m()\u001b[0m\n",
      "File \u001b[1;32mpandas\\\\_libs\\\\hashtable_class_helper.pxi:7089\u001b[0m, in \u001b[0;36mpandas._libs.hashtable.PyObjectHashTable.get_item\u001b[1;34m()\u001b[0m\n",
      "\u001b[1;31mKeyError\u001b[0m: 'text'",
      "\nThe above exception was the direct cause of the following exception:\n",
      "\u001b[1;31mKeyError\u001b[0m                                  Traceback (most recent call last)",
      "Cell \u001b[1;32mIn[81], line 1\u001b[0m\n\u001b[1;32m----> 1\u001b[0m new_df[\u001b[38;5;124m'\u001b[39m\u001b[38;5;124mtext\u001b[39m\u001b[38;5;124m'\u001b[39m]\n\u001b[0;32m      2\u001b[0m new_df[\u001b[38;5;124m'\u001b[39m\u001b[38;5;124memotion\u001b[39m\u001b[38;5;124m'\u001b[39m]\n",
      "File \u001b[1;32m~\\anaconda3\\Lib\\site-packages\\pandas\\core\\frame.py:4102\u001b[0m, in \u001b[0;36mDataFrame.__getitem__\u001b[1;34m(self, key)\u001b[0m\n\u001b[0;32m   4100\u001b[0m \u001b[38;5;28;01mif\u001b[39;00m \u001b[38;5;28mself\u001b[39m\u001b[38;5;241m.\u001b[39mcolumns\u001b[38;5;241m.\u001b[39mnlevels \u001b[38;5;241m>\u001b[39m \u001b[38;5;241m1\u001b[39m:\n\u001b[0;32m   4101\u001b[0m     \u001b[38;5;28;01mreturn\u001b[39;00m \u001b[38;5;28mself\u001b[39m\u001b[38;5;241m.\u001b[39m_getitem_multilevel(key)\n\u001b[1;32m-> 4102\u001b[0m indexer \u001b[38;5;241m=\u001b[39m \u001b[38;5;28mself\u001b[39m\u001b[38;5;241m.\u001b[39mcolumns\u001b[38;5;241m.\u001b[39mget_loc(key)\n\u001b[0;32m   4103\u001b[0m \u001b[38;5;28;01mif\u001b[39;00m is_integer(indexer):\n\u001b[0;32m   4104\u001b[0m     indexer \u001b[38;5;241m=\u001b[39m [indexer]\n",
      "File \u001b[1;32m~\\anaconda3\\Lib\\site-packages\\pandas\\core\\indexes\\base.py:3812\u001b[0m, in \u001b[0;36mIndex.get_loc\u001b[1;34m(self, key)\u001b[0m\n\u001b[0;32m   3807\u001b[0m     \u001b[38;5;28;01mif\u001b[39;00m \u001b[38;5;28misinstance\u001b[39m(casted_key, \u001b[38;5;28mslice\u001b[39m) \u001b[38;5;129;01mor\u001b[39;00m (\n\u001b[0;32m   3808\u001b[0m         \u001b[38;5;28misinstance\u001b[39m(casted_key, abc\u001b[38;5;241m.\u001b[39mIterable)\n\u001b[0;32m   3809\u001b[0m         \u001b[38;5;129;01mand\u001b[39;00m \u001b[38;5;28many\u001b[39m(\u001b[38;5;28misinstance\u001b[39m(x, \u001b[38;5;28mslice\u001b[39m) \u001b[38;5;28;01mfor\u001b[39;00m x \u001b[38;5;129;01min\u001b[39;00m casted_key)\n\u001b[0;32m   3810\u001b[0m     ):\n\u001b[0;32m   3811\u001b[0m         \u001b[38;5;28;01mraise\u001b[39;00m InvalidIndexError(key)\n\u001b[1;32m-> 3812\u001b[0m     \u001b[38;5;28;01mraise\u001b[39;00m \u001b[38;5;167;01mKeyError\u001b[39;00m(key) \u001b[38;5;28;01mfrom\u001b[39;00m \u001b[38;5;21;01merr\u001b[39;00m\n\u001b[0;32m   3813\u001b[0m \u001b[38;5;28;01mexcept\u001b[39;00m \u001b[38;5;167;01mTypeError\u001b[39;00m:\n\u001b[0;32m   3814\u001b[0m     \u001b[38;5;66;03m# If we have a listlike key, _check_indexing_error will raise\u001b[39;00m\n\u001b[0;32m   3815\u001b[0m     \u001b[38;5;66;03m#  InvalidIndexError. Otherwise we fall through and re-raise\u001b[39;00m\n\u001b[0;32m   3816\u001b[0m     \u001b[38;5;66;03m#  the TypeError.\u001b[39;00m\n\u001b[0;32m   3817\u001b[0m     \u001b[38;5;28mself\u001b[39m\u001b[38;5;241m.\u001b[39m_check_indexing_error(key)\n",
      "\u001b[1;31mKeyError\u001b[0m: 'text'"
     ]
    }
   ],
   "source": [
    "new_df['text']\n",
    "new_df['emotion']"
   ]
  },
  {
   "cell_type": "code",
   "execution_count": null,
   "id": "bfc1d1ad-311c-40b9-9b88-96bfcd6be2c5",
   "metadata": {},
   "outputs": [],
   "source": [
    "#######PUUUNNNNYYAAAA IIIRRRHHHAAAMMMM"
   ]
  },
  {
   "cell_type": "code",
   "execution_count": 117,
   "id": "6b8bea8b-9c8a-4dd5-b485-3387181bcd33",
   "metadata": {},
   "outputs": [],
   "source": [
    "import string\n",
    "from nltk.tokenize import word_tokenize\n",
    "from nltk.stem import PorterStemmer\n",
    "\n",
    "def getTokenizedList(input_df): \n",
    "    tokenizedList = [] \n",
    "    for i in range(len(input_df)): \n",
    "        curText = input_df.iloc[i, 1]  # Menggunakan iloc dengan benar\n",
    "        curText = curText.replace('\\n', '') \n",
    "        curTokenized = word_tokenize(curText) \n",
    "        tokenizedList.append(curTokenized) \n",
    "\n",
    "    tokenizedListWithoutPunct = [] \n",
    "    punctList = list(string.punctuation) \n",
    "    for i in range(len(tokenizedList)): \n",
    "        curList = tokenizedList[i] \n",
    "        newList = []  # list tanpa tanda baca \n",
    "        for word in curList: \n",
    "            if word not in punctList: \n",
    "                newList.append(word.lower()) \n",
    "        tokenizedListWithoutPunct.append(newList) \n",
    "\n",
    "    # Stemming \n",
    "    mystemmer = PorterStemmer() \n",
    "    tokenizedStemmed = [] \n",
    "    for i in range(len(tokenizedListWithoutPunct)): \n",
    "        curList = tokenizedListWithoutPunct[i] \n",
    "        newList = [] \n",
    "        for word in curList: \n",
    "            newList.append(mystemmer.stem(word))\n",
    "        tokenizedStemmed.append(newList) \n",
    "\n",
    "    return tokenizedStemmed"
   ]
  },
  {
   "cell_type": "code",
   "execution_count": 191,
   "id": "0a571806-8a27-4afd-b928-78371595f333",
   "metadata": {},
   "outputs": [],
   "source": [
    "def transformSentence (sent): \n",
    "    s = [] \n",
    "    sent=sent.replace('\\n','')\n",
    "    sentTokenized=word_tokenize(sent) \n",
    "    s.append(sentTokenized) \n",
    "    sWithoutPunct = [] \n",
    "    punctList = list(string.punctuation) \n",
    "    curSentList = s[0] \n",
    "    newSentList = [] \n",
    "    for word in curSentList: \n",
    "        if (word.lower() not in punctList): \n",
    "            newSentList.append(word.lower()) \n",
    "    sWithoutPunct.append(newSentList) \n",
    "    mystemmer = PorterStemmer()\n",
    "    tokenziedStemmed = [] \n",
    "    for i in range(0,len(sWithoutPunct)): \n",
    "        curList=sWithoutPunct[i] \n",
    "        newList=[] \n",
    "        for word in curList: \n",
    "        \tnewList.append(mystemmer.stem(word))\n",
    "        tokenziedStemmed.append(newList) \n",
    "    return tokenziedStemmed\n"
   ]
  },
  {
   "cell_type": "code",
   "execution_count": 119,
   "id": "e5746e46-4cdb-4295-b696-ec42611b6a90",
   "metadata": {},
   "outputs": [],
   "source": [
    "new_df['text'] = getTokenizedList(df)\n",
    "#new_df['text']"
   ]
  },
  {
   "cell_type": "code",
   "execution_count": 123,
   "id": "b835b8c1-ede8-465f-9fdc-8d416b75e1f0",
   "metadata": {},
   "outputs": [],
   "source": [
    "X_train, X_test, Y_train, Y_test=train_test_split(new_df['Text'], new_df[ 'Emotion'], test_size=.3, random_state=1)"
   ]
  },
  {
   "cell_type": "code",
   "execution_count": 127,
   "id": "dd63af8b-f7cf-4bbe-810b-bc4624f514ae",
   "metadata": {},
   "outputs": [],
   "source": [
    "#Function to pass the list to the Tfidf vectorizer \n",
    "def returnPhrase(inputList): \n",
    "    return inputList"
   ]
  },
  {
   "cell_type": "code",
   "execution_count": 133,
   "id": "9ae80609-9c14-44c1-a509-d9cbca76acf0",
   "metadata": {},
   "outputs": [],
   "source": [
    "#Extracting features for Naive Bayes\n",
    "\n",
    "myVectorizer=TfidfVectorizer(analyzer='word',tokenizer=returnPhrase,preprocessor=returnPhrase,token_pattern=None,ngram_range=(1,3))\n",
    "myVectorizer.fit(X_train)\n",
    "transformedTrain=myVectorizer.transform(X_train).toarray()\n",
    "transformedTest=myVectorizer.transform(X_test).toarray()"
   ]
  },
  {
   "cell_type": "code",
   "execution_count": 141,
   "id": "d3131158-c13b-4008-912c-432eb21ddc09",
   "metadata": {},
   "outputs": [
    {
     "name": "stdout",
     "output_type": "stream",
     "text": [
      "Best Acc Naive Bayes\n",
      "0.5121951219512195\n"
     ]
    }
   ],
   "source": [
    "curAlpha=0.33 #smoothing factor in NB \n",
    "NBClassifier=MultinomialNB(alpha=curAlpha) \n",
    "NBClassifier.fit(transformedTrain,Y_train) \n",
    "myPredTest=NBClassifier.predict(transformedTest) \n",
    "print('Best Acc Naive Bayes') \n",
    "#print(curAlpha) \n",
    "print(np.sum(myPredTest==Y_test)/len(Y_test))"
   ]
  },
  {
   "cell_type": "code",
   "execution_count": 147,
   "id": "85b1c0ca-1797-4772-ba56-8f79e73249f5",
   "metadata": {},
   "outputs": [
    {
     "name": "stdout",
     "output_type": "stream",
     "text": [
      "metrics classification report : naive bayes\n",
      "              precision    recall  f1-score   support\n",
      "\n",
      "       anger       0.41      0.43      0.42       331\n",
      "     disgust       0.65      0.46      0.54       324\n",
      "        fear       0.58      0.66      0.62       311\n",
      "       guilt       0.34      0.52      0.41       299\n",
      "         joy       0.61      0.59      0.60       323\n",
      "     sadness       0.66      0.54      0.59       351\n",
      "       shame       0.45      0.40      0.42       316\n",
      "\n",
      "    accuracy                           0.51      2255\n",
      "   macro avg       0.53      0.51      0.51      2255\n",
      "weighted avg       0.53      0.51      0.52      2255\n",
      "\n"
     ]
    }
   ],
   "source": [
    "print('metrics classification report : naive bayes')\n",
    "print(metrics.classification_report(Y_test, myPredTest))"
   ]
  },
  {
   "cell_type": "code",
   "execution_count": 213,
   "id": "c4c60c9d-15be-4217-9b68-8f3d949dd109",
   "metadata": {},
   "outputs": [],
   "source": [
    "myVectorizer=TfidfVectorizer(analyzer='word',tokenizer=returnPhrase,preprocessor=returnPhrase,token_pattern=None,ngram_range=(1,3))\n",
    "myVectorizer.fit(X_train)\n",
    "transformedTrain=myVectorizer.transform(X_train).toarray()\n",
    "transformedTest=myVectorizer.transform(X_test).toarray()"
   ]
  },
  {
   "cell_type": "code",
   "execution_count": 225,
   "id": "e7ceda1a-3be1-44b7-a38e-9816c1e47c3f",
   "metadata": {},
   "outputs": [
    {
     "name": "stderr",
     "output_type": "stream",
     "text": [
      "C:\\Users\\irham\\anaconda3\\Lib\\site-packages\\sklearn\\svm\\_classes.py:31: FutureWarning: The default value of `dual` will change from `True` to `'auto'` in 1.5. Set the value of `dual` explicitly to suppress the warning.\n",
      "  warnings.warn(\n"
     ]
    },
    {
     "name": "stdout",
     "output_type": "stream",
     "text": [
      "Best Acc SVM\n",
      "0.5627494456762749\n"
     ]
    }
   ],
   "source": [
    "curC=2 #cost factor in SVM \n",
    "SVMClassifier=svm.LinearSVC(C=curC) \n",
    "SVMClassifier.fit(transformedTrain, Y_train) \n",
    "myPredTest=SVMClassifier.predict (transformedTest) \n",
    "print('Best Acc SVM') \n",
    "#print(curC) \n",
    "print(np.sum(myPredTest==Y_test)/len(Y_test))"
   ]
  },
  {
   "cell_type": "code",
   "execution_count": 193,
   "id": "4b2a6b41-f524-44ad-b644-302db3ea08e2",
   "metadata": {},
   "outputs": [],
   "source": [
    "#To predict the emotion of a sentence using Naive Bayes\n",
    "def predictSentNB(sent):\n",
    "    sentPred = NBClassifier.predict(myVectorizer.transform(transformSentence(sent)).toarray())\n",
    "    return sentPred"
   ]
  },
  {
   "cell_type": "code",
   "execution_count": 203,
   "id": "49d1406d-cf9b-4cd2-a86b-3687a7a712cd",
   "metadata": {},
   "outputs": [],
   "source": [
    "#To predict the emotion of a sentence using SVM \n",
    "def predictSentSVM(sent):\n",
    "    sentPred = SVMClassifier.predict(myVectorizer.transform(transformSentence (sent)).toarray())\n",
    "    return sentPred"
   ]
  },
  {
   "cell_type": "code",
   "execution_count": 227,
   "id": "1f5f4896-adbf-4f5e-8545-20fc96f13c54",
   "metadata": {},
   "outputs": [
    {
     "name": "stdout",
     "output_type": "stream",
     "text": [
      "Naive bayes prediction\n",
      "['disgust']\n",
      "SVM prediction\n",
      "['guilt']\n"
     ]
    }
   ],
   "source": [
    "sent =  \"I love you to the moon and back\" \n",
    "#Printing the predicted emotion \n",
    "print(\"Naive bayes prediction\") \n",
    "print(predictSentNB(sent)) \n",
    "print(\"SVM prediction\")\n",
    "print(predictSentSVM(sent))"
   ]
  },
  {
   "cell_type": "code",
   "execution_count": 281,
   "id": "23550738-c2ae-4bb5-bf04-4c2be973323f",
   "metadata": {},
   "outputs": [],
   "source": [
    "from sklearn.metrics import confusion_matrix"
   ]
  },
  {
   "cell_type": "code",
   "execution_count": 285,
   "id": "3e4f98fa-a181-4af5-94d0-abcc5418b529",
   "metadata": {},
   "outputs": [
    {
     "data": {
      "image/png": "[encoded data removed]",
      "text/plain": [
       "<Figure size 700x700 with 2 Axes>"
      ]
     },
     "metadata": {},
     "output_type": "display_data"
    }
   ],
   "source": [
    "import numpy as np\n",
    "import matplotlib.pyplot as plt\n",
    "import seaborn as sns\n",
    "from sklearn.metrics import confusion_matrix\n",
    "\n",
    "# Misalkan Y_test dan myPredTest sudah didefinisikan\n",
    "Y_test = np.array(['joy', 'anger', 'fear', 'joy', 'sadness'])  # Contoh label sebenarnya\n",
    "myPredTest = np.array(['joy', 'fear', 'fear', 'joy', 'sadness'])  # Contoh prediksi\n",
    "\n",
    "labels = ['anger', 'disgust', 'fear', 'guilt', 'joy', 'sadness', 'shame']\n",
    "cm = confusion_matrix(Y_test, myPredTest, labels=labels)\n",
    "\n",
    "# print (cm)\n",
    "fig, ax = plt.subplots(figsize=(7, 7))\n",
    "sns.heatmap(cm, annot=True, fmt='d', ax=ax, cmap='Blues', xticklabels=labels, yticklabels=labels)\n",
    "plt.ylabel('Actual')\n",
    "plt.xlabel('Predicted')\n",
    "plt.title('Confusion Matrix')\n",
    "plt.show()\n"
   ]
  }
 ],
 "metadata": {
  "kernelspec": {
   "display_name": "Python 3 (ipykernel)",
   "language": "python",
   "name": "python3"
  },
  "language_info": {
   "codemirror_mode": {
    "name": "ipython",
    "version": 3
   },
   "file_extension": ".py",
   "mimetype": "text/x-python",
   "name": "python",
   "nbconvert_exporter": "python",
   "pygments_lexer": "ipython3",
   "version": "3.12.4"
  }
 },
 "nbformat": 4,
 "nbformat_minor": 5
}
